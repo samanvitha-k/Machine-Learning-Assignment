{
 "cells": [
  {
   "cell_type": "code",
   "execution_count": 6,
   "metadata": {},
   "outputs": [],
   "source": [
    "# 1.Check for duplicates in the csv file\n",
    "df = df.drop_duplicates()"
   ]
  },
  {
   "cell_type": "code",
   "execution_count": 7,
   "metadata": {},
   "outputs": [],
   "source": [
    "# 2.Handle missing values\n",
    "df = df.dropna(subset=['name', 'brand'])  # Example: dropping rows where 'name' or 'brand' is missing\n"
   ]
  },
  {
   "cell_type": "code",
   "execution_count": 8,
   "metadata": {},
   "outputs": [],
   "source": [
    "# 3. Normalize text columns\n",
    "df['name'] = df['name'].str.strip().str.lower()\n",
    "df['brand'] = df['brand'].str.strip().str.lower()\n"
   ]
  },
  {
   "cell_type": "code",
   "execution_count": 9,
   "metadata": {},
   "outputs": [],
   "source": [
    "# 4. Validate Data Consistency\n",
    "# Example: Ensure discountPercentage is between 0 and 100\n",
    "df = df[(df['discountPercentage'] >= 0) & (df['discountPercentage'] <= 100)]\n"
   ]
  },
  {
   "cell_type": "code",
   "execution_count": 10,
   "metadata": {},
   "outputs": [],
   "source": [
    "# 5. Feature Engineering\n",
    "# Example: Create a boolean column indicating if an item is on sale\n",
    "df['onSale'] = df['discountPercentage'] > 0\n"
   ]
  },
  {
   "cell_type": "code",
   "execution_count": 12,
   "metadata": {},
   "outputs": [
    {
     "name": "stdout",
     "output_type": "stream",
     "text": [
      "                                                name           brand  \\\n",
      "0                                 blouse - off white      anna field   \n",
      "1  ladies open edge terry turn up pants - tracksu...  urban classics   \n",
      "2  onlnoelle midi string skirt - a-line skirt - b...            only   \n",
      "3                    stretch  - shorts - khaki stone  the north face   \n",
      "4                                     hoodie - black        even&odd   \n",
      "\n",
      "                                  sizes  \\\n",
      "0  6, 8, 10, 12, 16, 18, 20, 22, 24, 26   \n",
      "1        XS, S, M, L, XL, 3XL, 4XL, 5XL   \n",
      "2             XS, S, M, L, XL, XXL, 3XL   \n",
      "3                            12, 14, 18   \n",
      "4                           XS, S, M, L   \n",
      "\n",
      "                                                skus  originalPrice  \\\n",
      "0  AN621E0AO-A110034000, AN621E0AO-A110036000, AN...          25.99   \n",
      "1  UR621A01M-Q1100XS000, UR621A01M-Q11000S000, UR...          25.00   \n",
      "2  ON321B1AF-Q1100XS000, ON321B1AF-Q11000S000, ON...          35.99   \n",
      "3  TH321S01H-B110008000, TH321S01H-B110010000, TH...          59.99   \n",
      "4  EV421J08C-Q1100XS000, EV421J08C-Q11000S000, EV...          20.99   \n",
      "\n",
      "   promotionalPrice  discountPercentage  discountAmount  onSale  \n",
      "0             22.00                15.0            3.99    True  \n",
      "1             25.00                 0.0            0.00   False  \n",
      "2             35.99                 0.0            0.00   False  \n",
      "3             54.00                10.0            5.99    True  \n",
      "4             10.00                52.0           10.99    True  \n"
     ]
    }
   ],
   "source": [
    "# 6. Show the preprocessed data\n",
    "print(df.head())"
   ]
  },
  {
   "cell_type": "code",
   "execution_count": 13,
   "metadata": {},
   "outputs": [],
   "source": [
    "# Split the data\n",
    "from sklearn.model_selection import train_test_split\n",
    "\n",
    "# Define features and target variable\n",
    "X = df[['originalPrice', 'promotionalPrice', 'discountPercentage', 'discountAmount']]\n",
    "y = df['onSale']  # Assuming 'onSale' is the target for classification\n",
    "\n",
    "# Split the data into training and testing sets\n",
    "X_train, X_test, y_train, y_test = train_test_split(X, y, test_size=0.2, random_state=42)"
   ]
  },
  {
   "cell_type": "code",
   "execution_count": 14,
   "metadata": {},
   "outputs": [
    {
     "name": "stdout",
     "output_type": "stream",
     "text": [
      "Linear Regression - MSE: 0.0806650854884259, R2: 0.6509658609782543\n"
     ]
    }
   ],
   "source": [
    "# Train and evaluate the models\n",
    "# 1. Linear Regression \n",
    "from sklearn.linear_model import LinearRegression\n",
    "from sklearn.metrics import mean_squared_error, r2_score\n",
    "\n",
    "# Train the model\n",
    "lr_model = LinearRegression()\n",
    "lr_model.fit(X_train, y_train)\n",
    "\n",
    "# Make predictions\n",
    "y_pred_lr = lr_model.predict(X_test)\n",
    "\n",
    "# Evaluate the model\n",
    "mse_lr = mean_squared_error(y_test, y_pred_lr)\n",
    "r2_lr = r2_score(y_test, y_pred_lr)\n",
    "\n",
    "print(f'Linear Regression - MSE: {mse_lr}, R2: {r2_lr}')\n"
   ]
  },
  {
   "cell_type": "code",
   "execution_count": 15,
   "metadata": {},
   "outputs": [
    {
     "name": "stdout",
     "output_type": "stream",
     "text": [
      "Logistic Regression - Accuracy: 1.0\n",
      "              precision    recall  f1-score   support\n",
      "\n",
      "       False       1.00      1.00      1.00      1396\n",
      "        True       1.00      1.00      1.00       794\n",
      "\n",
      "    accuracy                           1.00      2190\n",
      "   macro avg       1.00      1.00      1.00      2190\n",
      "weighted avg       1.00      1.00      1.00      2190\n",
      "\n"
     ]
    }
   ],
   "source": [
    "# Logisitic Regression\n",
    "from sklearn.linear_model import LogisticRegression\n",
    "from sklearn.metrics import accuracy_score, classification_report\n",
    "\n",
    "# Train the model\n",
    "logreg_model = LogisticRegression()\n",
    "logreg_model.fit(X_train, y_train)\n",
    "\n",
    "# Make predictions\n",
    "y_pred_logreg = logreg_model.predict(X_test)\n",
    "\n",
    "# Evaluate the model\n",
    "accuracy_logreg = accuracy_score(y_test, y_pred_logreg)\n",
    "print(f'Logistic Regression - Accuracy: {accuracy_logreg}')\n",
    "print(classification_report(y_test, y_pred_logreg))\n"
   ]
  },
  {
   "cell_type": "code",
   "execution_count": 16,
   "metadata": {},
   "outputs": [
    {
     "name": "stdout",
     "output_type": "stream",
     "text": [
      "SVM - Accuracy: 0.9990867579908675\n",
      "              precision    recall  f1-score   support\n",
      "\n",
      "       False       1.00      1.00      1.00      1396\n",
      "        True       1.00      1.00      1.00       794\n",
      "\n",
      "    accuracy                           1.00      2190\n",
      "   macro avg       1.00      1.00      1.00      2190\n",
      "weighted avg       1.00      1.00      1.00      2190\n",
      "\n"
     ]
    }
   ],
   "source": [
    "# Support Vector Machine(SVM)\n",
    "from sklearn.svm import SVC\n",
    "\n",
    "# Train the model\n",
    "svm_model = SVC()\n",
    "svm_model.fit(X_train, y_train)\n",
    "\n",
    "# Make predictions\n",
    "y_pred_svm = svm_model.predict(X_test)\n",
    "\n",
    "# Evaluate the model\n",
    "accuracy_svm = accuracy_score(y_test, y_pred_svm)\n",
    "print(f'SVM - Accuracy: {accuracy_svm}')\n",
    "print(classification_report(y_test, y_pred_svm))\n"
   ]
  },
  {
   "cell_type": "code",
   "execution_count": 17,
   "metadata": {},
   "outputs": [
    {
     "name": "stdout",
     "output_type": "stream",
     "text": [
      "Decision Tree - Accuracy: 1.0\n",
      "              precision    recall  f1-score   support\n",
      "\n",
      "       False       1.00      1.00      1.00      1396\n",
      "        True       1.00      1.00      1.00       794\n",
      "\n",
      "    accuracy                           1.00      2190\n",
      "   macro avg       1.00      1.00      1.00      2190\n",
      "weighted avg       1.00      1.00      1.00      2190\n",
      "\n"
     ]
    }
   ],
   "source": [
    "# Decision Tree\n",
    "from sklearn.tree import DecisionTreeClassifier\n",
    "\n",
    "# Train the model\n",
    "dt_model = DecisionTreeClassifier()\n",
    "dt_model.fit(X_train, y_train)\n",
    "\n",
    "# Make predictions\n",
    "y_pred_dt = dt_model.predict(X_test)\n",
    "\n",
    "# Evaluate the model\n",
    "accuracy_dt = accuracy_score(y_test, y_pred_dt)\n",
    "print(f'Decision Tree - Accuracy: {accuracy_dt}')\n",
    "print(classification_report(y_test, y_pred_dt))\n"
   ]
  },
  {
   "cell_type": "code",
   "execution_count": 18,
   "metadata": {},
   "outputs": [
    {
     "name": "stdout",
     "output_type": "stream",
     "text": [
      "Random Forest - Accuracy: 1.0\n",
      "              precision    recall  f1-score   support\n",
      "\n",
      "       False       1.00      1.00      1.00      1396\n",
      "        True       1.00      1.00      1.00       794\n",
      "\n",
      "    accuracy                           1.00      2190\n",
      "   macro avg       1.00      1.00      1.00      2190\n",
      "weighted avg       1.00      1.00      1.00      2190\n",
      "\n"
     ]
    }
   ],
   "source": [
    "# Random Forest\n",
    "from sklearn.ensemble import RandomForestClassifier\n",
    "\n",
    "# Train the model\n",
    "rf_model = RandomForestClassifier()\n",
    "rf_model.fit(X_train, y_train)\n",
    "\n",
    "# Make predictions\n",
    "y_pred_rf = rf_model.predict(X_test)\n",
    "\n",
    "# Evaluate the model\n",
    "accuracy_rf = accuracy_score(y_test, y_pred_rf)\n",
    "print(f'Random Forest - Accuracy: {accuracy_rf}')\n",
    "print(classification_report(y_test, y_pred_rf))\n"
   ]
  },
  {
   "cell_type": "code",
   "execution_count": 19,
   "metadata": {},
   "outputs": [
    {
     "name": "stdout",
     "output_type": "stream",
     "text": [
      "Naive Bayes - Accuracy: 0.9917808219178083\n",
      "              precision    recall  f1-score   support\n",
      "\n",
      "       False       1.00      0.99      0.99      1396\n",
      "        True       0.98      1.00      0.99       794\n",
      "\n",
      "    accuracy                           0.99      2190\n",
      "   macro avg       0.99      0.99      0.99      2190\n",
      "weighted avg       0.99      0.99      0.99      2190\n",
      "\n"
     ]
    }
   ],
   "source": [
    "# Naive Bayes\n",
    "from sklearn.naive_bayes import GaussianNB\n",
    "\n",
    "# Train the model\n",
    "nb_model = GaussianNB()\n",
    "nb_model.fit(X_train, y_train)\n",
    "\n",
    "# Make predictions\n",
    "y_pred_nb = nb_model.predict(X_test)\n",
    "\n",
    "# Evaluate the model\n",
    "accuracy_nb = accuracy_score(y_test, y_pred_nb)\n",
    "print(f'Naive Bayes - Accuracy: {accuracy_nb}')\n",
    "print(classification_report(y_test, y_pred_nb))\n"
   ]
  },
  {
   "cell_type": "code",
   "execution_count": 20,
   "metadata": {},
   "outputs": [
    {
     "name": "stdout",
     "output_type": "stream",
     "text": [
      "KNN - Accuracy: 0.997716894977169\n",
      "              precision    recall  f1-score   support\n",
      "\n",
      "       False       1.00      1.00      1.00      1396\n",
      "        True       0.99      1.00      1.00       794\n",
      "\n",
      "    accuracy                           1.00      2190\n",
      "   macro avg       1.00      1.00      1.00      2190\n",
      "weighted avg       1.00      1.00      1.00      2190\n",
      "\n"
     ]
    }
   ],
   "source": [
    "# K-Nearest Neighbors (KNN)\n",
    "from sklearn.neighbors import KNeighborsClassifier\n",
    "\n",
    "# Train the model\n",
    "knn_model = KNeighborsClassifier()\n",
    "knn_model.fit(X_train, y_train)\n",
    "\n",
    "# Make predictions\n",
    "y_pred_knn = knn_model.predict(X_test)\n",
    "\n",
    "# Evaluate the model\n",
    "accuracy_knn = accuracy_score(y_test, y_pred_knn)\n",
    "print(f'KNN - Accuracy: {accuracy_knn}')\n",
    "print(classification_report(y_test, y_pred_knn))\n"
   ]
  },
  {
   "cell_type": "code",
   "execution_count": 21,
   "metadata": {},
   "outputs": [
    {
     "data": {
      "image/png": "[encoded data removed]",
      "text/plain": [
       "<Figure size 1000x600 with 1 Axes>"
      ]
     },
     "metadata": {},
     "output_type": "display_data"
    }
   ],
   "source": [
    "# Visualization \n",
    "import matplotlib.pyplot as plt\n",
    "import seaborn as sns\n",
    "\n",
    "# Model performance metrics\n",
    "models = ['Logistic Regression', 'SVM', 'Decision Tree', 'Random Forest', 'Naive Bayes', 'KNN']\n",
    "accuracies = [accuracy_logreg, accuracy_svm, accuracy_dt, accuracy_rf, accuracy_nb, accuracy_knn]\n",
    "\n",
    "# Create a bar plot\n",
    "plt.figure(figsize=(10, 6))\n",
    "sns.barplot(x=models, y=accuracies)\n",
    "plt.title('Model Accuracy Comparison')\n",
    "plt.xlabel('Models')\n",
    "plt.ylabel('Accuracy')\n",
    "plt.ylim(0, 1)\n",
    "plt.xticks(rotation=45)\n",
    "plt.show()\n"
   ]
  }
 ],
 "metadata": {
  "kernelspec": {
   "display_name": "Python 3",
   "language": "python",
   "name": "python3"
  },
  "language_info": {
   "codemirror_mode": {
    "name": "ipython",
    "version": 3
   },
   "file_extension": ".py",
   "mimetype": "text/x-python",
   "name": "python",
   "nbconvert_exporter": "python",
   "pygments_lexer": "ipython3",
   "version": "3.10.9"
  }
 },
 "nbformat": 4,
 "nbformat_minor": 2
}

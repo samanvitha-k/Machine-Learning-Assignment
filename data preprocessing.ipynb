{
 "cells": [
  {
   "cell_type": "code",
   "execution_count": 6,
   "metadata": {},
   "outputs": [],
   "source": [
    "# 1.Check for duplicates in the csv file\n",
    "df = df.drop_duplicates()"
   ]
  },
  {
   "cell_type": "code",
   "execution_count": 7,
   "metadata": {},
   "outputs": [],
   "source": [
    "# 2.Handle missing values\n",
    "df = df.dropna(subset=['name', 'brand'])  # Example: dropping rows where 'name' or 'brand' is missing\n"
   ]
  },
  {
   "cell_type": "code",
   "execution_count": 8,
   "metadata": {},
   "outputs": [],
   "source": [
    "#3. Normalize text columns\n",
    "df['name'] = df['name'].str.strip().str.lower()\n",
    "df['brand'] = df['brand'].str.strip().str.lower()\n"
   ]
  },
  {
   "cell_type": "code",
   "execution_count": 9,
   "metadata": {},
   "outputs": [],
   "source": [
    "#4. Validate Data Consistency\n",
    "# Example: Ensure discountPercentage is between 0 and 100\n",
    "df = df[(df['discountPercentage'] >= 0) & (df['discountPercentage'] <= 100)]\n"
   ]
  },
  {
   "cell_type": "code",
   "execution_count": 10,
   "metadata": {},
   "outputs": [],
   "source": [
    "#5. Feature Engineering\n",
    "# Example: Create a boolean column indicating if an item is on sale\n",
    "df['onSale'] = df['discountPercentage'] > 0\n"
   ]
  },
  {
   "cell_type": "code",
   "execution_count": 12,
   "metadata": {},
   "outputs": [
    {
     "name": "stdout",
     "output_type": "stream",
     "text": [
      "                                                name           brand  \\\n",
      "0                                 blouse - off white      anna field   \n",
      "1  ladies open edge terry turn up pants - tracksu...  urban classics   \n",
      "2  onlnoelle midi string skirt - a-line skirt - b...            only   \n",
      "3                    stretch  - shorts - khaki stone  the north face   \n",
      "4                                     hoodie - black        even&odd   \n",
      "\n",
      "                                  sizes  \\\n",
      "0  6, 8, 10, 12, 16, 18, 20, 22, 24, 26   \n",
      "1        XS, S, M, L, XL, 3XL, 4XL, 5XL   \n",
      "2             XS, S, M, L, XL, XXL, 3XL   \n",
      "3                            12, 14, 18   \n",
      "4                           XS, S, M, L   \n",
      "\n",
      "                                                skus  originalPrice  \\\n",
      "0  AN621E0AO-A110034000, AN621E0AO-A110036000, AN...          25.99   \n",
      "1  UR621A01M-Q1100XS000, UR621A01M-Q11000S000, UR...          25.00   \n",
      "2  ON321B1AF-Q1100XS000, ON321B1AF-Q11000S000, ON...          35.99   \n",
      "3  TH321S01H-B110008000, TH321S01H-B110010000, TH...          59.99   \n",
      "4  EV421J08C-Q1100XS000, EV421J08C-Q11000S000, EV...          20.99   \n",
      "\n",
      "   promotionalPrice  discountPercentage  discountAmount  onSale  \n",
      "0             22.00                15.0            3.99    True  \n",
      "1             25.00                 0.0            0.00   False  \n",
      "2             35.99                 0.0            0.00   False  \n",
      "3             54.00                10.0            5.99    True  \n",
      "4             10.00                52.0           10.99    True  \n"
     ]
    }
   ],
   "source": [
    "# 6. Show the preprocessed data\n",
    "print(df.head())"
   ]
  }
 ],
 "metadata": {
  "kernelspec": {
   "display_name": "Python 3",
   "language": "python",
   "name": "python3"
  },
  "language_info": {
   "codemirror_mode": {
    "name": "ipython",
    "version": 3
   },
   "file_extension": ".py",
   "mimetype": "text/x-python",
   "name": "python",
   "nbconvert_exporter": "python",
   "pygments_lexer": "ipython3",
   "version": "3.10.9"
  }
 },
 "nbformat": 4,
 "nbformat_minor": 2
}
